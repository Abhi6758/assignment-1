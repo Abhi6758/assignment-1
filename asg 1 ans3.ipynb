{
 "cells": [
  {
   "cell_type": "code",
   "execution_count": 1,
   "id": "a3807261-dcb8-43fc-bb1c-8b596c32cf8f",
   "metadata": {},
   "outputs": [
    {
     "data": {
      "text/plain": [
       "2.0"
      ]
     },
     "execution_count": 1,
     "metadata": {},
     "output_type": "execute_result"
    }
   ],
   "source": [
    "4/2"
   ]
  },
  {
   "cell_type": "markdown",
   "id": "0fdbafe0-748c-4f39-9fa3-0838d0bb3648",
   "metadata": {},
   "source": [
    "/( devision) = use of this for divide the numbers"
   ]
  },
  {
   "cell_type": "code",
   "execution_count": 11,
   "id": "9268df7f-5cc3-4d30-a0a2-aa6734a4faa3",
   "metadata": {},
   "outputs": [
    {
     "data": {
      "text/plain": [
       "1"
      ]
     },
     "execution_count": 11,
     "metadata": {},
     "output_type": "execute_result"
    }
   ],
   "source": [
    "5%2"
   ]
  },
  {
   "cell_type": "markdown",
   "id": "e2c8695d-ef21-4f3a-823e-e49eb853f02e",
   "metadata": {},
   "source": [
    "% (modulo) = use of this for finding the percentage"
   ]
  },
  {
   "cell_type": "code",
   "execution_count": 14,
   "id": "bd580405-9d0c-4ed4-81c2-362a00b6bd6c",
   "metadata": {},
   "outputs": [
    {
     "data": {
      "text/plain": [
       "3"
      ]
     },
     "execution_count": 14,
     "metadata": {},
     "output_type": "execute_result"
    }
   ],
   "source": [
    "10//3"
   ]
  },
  {
   "cell_type": "markdown",
   "id": "9623dcea-da3b-4fa9-aea4-be99f7259e60",
   "metadata": {},
   "source": [
    "//(floor devision) =  use of this we floor divide a by b"
   ]
  },
  {
   "cell_type": "code",
   "execution_count": 15,
   "id": "121b62c9-f3b4-4fda-b532-b3921d96877b",
   "metadata": {},
   "outputs": [
    {
     "data": {
      "text/plain": [
       "8"
      ]
     },
     "execution_count": 15,
     "metadata": {},
     "output_type": "execute_result"
    }
   ],
   "source": [
    "2**3"
   ]
  },
  {
   "cell_type": "markdown",
   "id": "1f27a6ec-36d0-4037-b1d6-7e9da51322bb",
   "metadata": {},
   "source": [
    "** (power) = use of this we get a to the power b"
   ]
  },
  {
   "cell_type": "code",
   "execution_count": null,
   "id": "de9cc28e-52f6-4d75-a0f8-850ef484f04b",
   "metadata": {},
   "outputs": [],
   "source": []
  }
 ],
 "metadata": {
  "kernelspec": {
   "display_name": "Python 3 (ipykernel)",
   "language": "python",
   "name": "python3"
  },
  "language_info": {
   "codemirror_mode": {
    "name": "ipython",
    "version": 3
   },
   "file_extension": ".py",
   "mimetype": "text/x-python",
   "name": "python",
   "nbconvert_exporter": "python",
   "pygments_lexer": "ipython3",
   "version": "3.10.8"
  }
 },
 "nbformat": 4,
 "nbformat_minor": 5
}
