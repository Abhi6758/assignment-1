{
 "cells": [
  {
   "cell_type": "markdown",
   "id": "fb45bf34-20e7-4dbb-b181-998949a65c3e",
   "metadata": {},
   "source": [
    "MUTABLE = in mutable we can change, add or remove elements in list without changing the list identity \n",
    "Example as shown below"
   ]
  },
  {
   "cell_type": "code",
   "execution_count": 5,
   "id": "d2d70c6e-231e-4a87-8052-d9b2075a1b67",
   "metadata": {},
   "outputs": [],
   "source": [
    "l1 = [1,2,4,5,4,'sudh','pwskills',3+5j,45.6,True]"
   ]
  },
  {
   "cell_type": "code",
   "execution_count": 6,
   "id": "c49d1c19-913d-4fc4-b9ea-58c0c93c8502",
   "metadata": {},
   "outputs": [],
   "source": [
    "l1.append(\"ravi\")"
   ]
  },
  {
   "cell_type": "code",
   "execution_count": 7,
   "id": "78d9a770-63e3-44fb-ab4d-58c4dd247414",
   "metadata": {},
   "outputs": [
    {
     "data": {
      "text/plain": [
       "[1, 2, 4, 5, 4, 'sudh', 'pwskills', (3+5j), 45.6, True, 'ravi']"
      ]
     },
     "execution_count": 7,
     "metadata": {},
     "output_type": "execute_result"
    }
   ],
   "source": [
    "l1"
   ]
  },
  {
   "cell_type": "code",
   "execution_count": 11,
   "id": "07d97c96-af61-4cd9-a4f6-7aa2bad9a24d",
   "metadata": {},
   "outputs": [],
   "source": [
    "l1.extend([4,5,4,85])"
   ]
  },
  {
   "cell_type": "code",
   "execution_count": 12,
   "id": "789bcd64-e8bb-4f0a-858b-c6d5d4119192",
   "metadata": {},
   "outputs": [
    {
     "data": {
      "text/plain": [
       "[1, 2, 4, 5, 4, 'sudh', 'pwskills', (3+5j), 45.6, True, 'ravi', 4, 5, 4, 85]"
      ]
     },
     "execution_count": 12,
     "metadata": {},
     "output_type": "execute_result"
    }
   ],
   "source": [
    "l1"
   ]
  },
  {
   "cell_type": "code",
   "execution_count": 13,
   "id": "1fa3f9dd-d051-4c7a-b0f9-24657f0a5bde",
   "metadata": {},
   "outputs": [],
   "source": [
    "l1.remove('sudh')"
   ]
  },
  {
   "cell_type": "code",
   "execution_count": 14,
   "id": "7a6dbb78-e33b-41b1-8cfe-efa6db4ad7c2",
   "metadata": {},
   "outputs": [
    {
     "data": {
      "text/plain": [
       "[1, 2, 4, 5, 4, 'pwskills', (3+5j), 45.6, True, 'ravi', 4, 5, 4, 85]"
      ]
     },
     "execution_count": 14,
     "metadata": {},
     "output_type": "execute_result"
    }
   ],
   "source": [
    "l1"
   ]
  },
  {
   "cell_type": "markdown",
   "id": "c3f7fe93-15f9-446a-bb1d-d795cefa0c9b",
   "metadata": {},
   "source": [
    "IMUTABLE = In imutable we can not change the value of the elements after creation.if we want to edit  we have to create a new one . \n",
    "Example as shown below\n"
   ]
  },
  {
   "cell_type": "code",
   "execution_count": 18,
   "id": "47819927-764f-4f9e-ae16-ae624d35170f",
   "metadata": {},
   "outputs": [],
   "source": [
    "a = \"Hello\""
   ]
  },
  {
   "cell_type": "code",
   "execution_count": 19,
   "id": "d25a7d08-520c-4154-aa36-60fb8318054c",
   "metadata": {},
   "outputs": [
    {
     "data": {
      "text/plain": [
       "str"
      ]
     },
     "execution_count": 19,
     "metadata": {},
     "output_type": "execute_result"
    }
   ],
   "source": [
    "type (a)"
   ]
  },
  {
   "cell_type": "code",
   "execution_count": 20,
   "id": "249a0576-34d0-4214-a72e-10d737056621",
   "metadata": {},
   "outputs": [
    {
     "name": "stdout",
     "output_type": "stream",
     "text": [
      "a World\n"
     ]
    }
   ],
   "source": [
    "b = 'a' + \" World\"\n",
    "print(b)             "
   ]
  },
  {
   "cell_type": "code",
   "execution_count": null,
   "id": "9dcf2d6e-f762-493b-bfe5-3eb36d44392c",
   "metadata": {},
   "outputs": [],
   "source": []
  }
 ],
 "metadata": {
  "kernelspec": {
   "display_name": "Python 3 (ipykernel)",
   "language": "python",
   "name": "python3"
  },
  "language_info": {
   "codemirror_mode": {
    "name": "ipython",
    "version": 3
   },
   "file_extension": ".py",
   "mimetype": "text/x-python",
   "name": "python",
   "nbconvert_exporter": "python",
   "pygments_lexer": "ipython3",
   "version": "3.10.8"
  }
 },
 "nbformat": 4,
 "nbformat_minor": 5
}
