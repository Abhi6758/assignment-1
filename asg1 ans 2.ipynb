{
 "cells": [
  {
   "cell_type": "code",
   "execution_count": 1,
   "id": "35de7729-53ed-44e7-8fc2-472bcaa14641",
   "metadata": {},
   "outputs": [],
   "source": [
    "var1 = ''"
   ]
  },
  {
   "cell_type": "code",
   "execution_count": 2,
   "id": "1d1edbcf-532b-49be-a4e2-48a6168df048",
   "metadata": {},
   "outputs": [
    {
     "data": {
      "text/plain": [
       "str"
      ]
     },
     "execution_count": 2,
     "metadata": {},
     "output_type": "execute_result"
    }
   ],
   "source": [
    "type(var1)"
   ]
  },
  {
   "cell_type": "code",
   "execution_count": 3,
   "id": "f47a367c-1c1d-411e-b3b5-fe4e958615e8",
   "metadata": {},
   "outputs": [],
   "source": [
    "var2 = '[DS,ML,PYTHAN]'"
   ]
  },
  {
   "cell_type": "code",
   "execution_count": 4,
   "id": "fc258fc2-f0b8-4281-b554-4b1c410f31f8",
   "metadata": {},
   "outputs": [
    {
     "data": {
      "text/plain": [
       "str"
      ]
     },
     "execution_count": 4,
     "metadata": {},
     "output_type": "execute_result"
    }
   ],
   "source": [
    "type(var2)"
   ]
  },
  {
   "cell_type": "code",
   "execution_count": null,
   "id": "f06dfb0b-4e73-4bdb-80ba-3d238aa07f27",
   "metadata": {},
   "outputs": [],
   "source": [
    "var3 = ['"
   ]
  }
 ],
 "metadata": {
  "kernelspec": {
   "display_name": "Python 3 (ipykernel)",
   "language": "python",
   "name": "python3"
  },
  "language_info": {
   "codemirror_mode": {
    "name": "ipython",
    "version": 3
   },
   "file_extension": ".py",
   "mimetype": "text/x-python",
   "name": "python",
   "nbconvert_exporter": "python",
   "pygments_lexer": "ipython3",
   "version": "3.10.8"
  }
 },
 "nbformat": 4,
 "nbformat_minor": 5
}
