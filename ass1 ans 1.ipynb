{
 "cells": [
  {
   "cell_type": "code",
   "execution_count": 3,
   "id": "f7ab937f-4182-487e-a1f9-308e96ad6e76",
   "metadata": {},
   "outputs": [],
   "source": [
    "a = \"sudh\""
   ]
  },
  {
   "cell_type": "code",
   "execution_count": 4,
   "id": "4032fdca-a1f8-40e5-9cd5-b3a67e27089c",
   "metadata": {},
   "outputs": [
    {
     "data": {
      "text/plain": [
       "str"
      ]
     },
     "execution_count": 4,
     "metadata": {},
     "output_type": "execute_result"
    }
   ],
   "source": [
    "type(a)"
   ]
  },
  {
   "cell_type": "code",
   "execution_count": 6,
   "id": "1a2bba88-e069-49e4-a37f-5fab09d44860",
   "metadata": {},
   "outputs": [],
   "source": [
    "b = [1,2,3,4,5,\"sudh\",\"pwskills\",True,False,3+5j,35.45]"
   ]
  },
  {
   "cell_type": "code",
   "execution_count": 7,
   "id": "b7427743-91ac-4d76-8ebb-d88002c226da",
   "metadata": {},
   "outputs": [
    {
     "data": {
      "text/plain": [
       "list"
      ]
     },
     "execution_count": 7,
     "metadata": {},
     "output_type": "execute_result"
    }
   ],
   "source": [
    "type(b)"
   ]
  },
  {
   "cell_type": "code",
   "execution_count": 10,
   "id": "e402e69e-5a2b-4a3d-a89b-d71d7411f825",
   "metadata": {},
   "outputs": [],
   "source": [
    "c = 34.45"
   ]
  },
  {
   "cell_type": "code",
   "execution_count": 11,
   "id": "b8ac0f00-0abf-4927-a455-0bdb3ab98952",
   "metadata": {},
   "outputs": [
    {
     "data": {
      "text/plain": [
       "float"
      ]
     },
     "execution_count": 11,
     "metadata": {},
     "output_type": "execute_result"
    }
   ],
   "source": [
    "type(c)"
   ]
  },
  {
   "cell_type": "code",
   "execution_count": 1,
   "id": "762e8fbd-decd-4ccf-87c6-45dafa412fa2",
   "metadata": {},
   "outputs": [],
   "source": [
    "d = (1,2,3,4)"
   ]
  },
  {
   "cell_type": "code",
   "execution_count": 2,
   "id": "4a70ebe6-5e42-4b37-994d-07e6986d2b58",
   "metadata": {},
   "outputs": [
    {
     "data": {
      "text/plain": [
       "tuple"
      ]
     },
     "execution_count": 2,
     "metadata": {},
     "output_type": "execute_result"
    }
   ],
   "source": [
    "type (d)"
   ]
  },
  {
   "cell_type": "code",
   "execution_count": null,
   "id": "49c717dd-517e-4ebc-95b9-1ac1ccd26ce4",
   "metadata": {},
   "outputs": [],
   "source": []
  },
  {
   "cell_type": "code",
   "execution_count": null,
   "id": "4e796881-cc63-470a-bdda-c78934cf05c3",
   "metadata": {},
   "outputs": [],
   "source": []
  }
 ],
 "metadata": {
  "kernelspec": {
   "display_name": "Python 3 (ipykernel)",
   "language": "python",
   "name": "python3"
  },
  "language_info": {
   "codemirror_mode": {
    "name": "ipython",
    "version": 3
   },
   "file_extension": ".py",
   "mimetype": "text/x-python",
   "name": "python",
   "nbconvert_exporter": "python",
   "pygments_lexer": "ipython3",
   "version": "3.10.8"
  }
 },
 "nbformat": 4,
 "nbformat_minor": 5
}
