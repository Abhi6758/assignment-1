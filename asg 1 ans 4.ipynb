{
 "cells": [
  {
   "cell_type": "code",
   "execution_count": 27,
   "id": "71afe100-1f59-4363-b9b9-c22bc660ce0f",
   "metadata": {},
   "outputs": [],
   "source": [
    "l1 = [1, \"sudh\", 3.14, True, [1, 2, 3], {\"abhi\": \"name\", \"age\": 30}, (\"apple\", \"banana\"), False, 5]"
   ]
  },
  {
   "cell_type": "code",
   "execution_count": 28,
   "id": "b60bc390-22ee-45ca-9d7c-4980f85335d8",
   "metadata": {},
   "outputs": [
    {
     "data": {
      "text/plain": [
       "list"
      ]
     },
     "execution_count": 28,
     "metadata": {},
     "output_type": "execute_result"
    }
   ],
   "source": [
    "type(l1)"
   ]
  },
  {
   "cell_type": "code",
   "execution_count": 60,
   "id": "09ecb2f3-61cd-4947-af92-c199dd8829f2",
   "metadata": {},
   "outputs": [
    {
     "name": "stdout",
     "output_type": "stream",
     "text": [
      ": 1 : int\n",
      ": sudh : str\n",
      ": 3.14 : float\n",
      ": True : bool\n",
      ": [1, 2, 3] : list\n",
      ": {'abhi': 'name', 'age': 30} : dict\n",
      ": ('apple', 'banana') : tuple\n",
      ": False : bool\n",
      ": 5 : int\n"
     ]
    }
   ],
   "source": [
    "for element in l1:\n",
    "    print(f\": {element} : {type(element).__name__}\")"
   ]
  },
  {
   "cell_type": "code",
   "execution_count": null,
   "id": "30d79892-61f3-4f56-949e-653d78018b8d",
   "metadata": {},
   "outputs": [],
   "source": []
  },
  {
   "cell_type": "code",
   "execution_count": null,
   "id": "666f2a07-bca8-4d56-b233-3629faf1b9d0",
   "metadata": {},
   "outputs": [],
   "source": []
  }
 ],
 "metadata": {
  "kernelspec": {
   "display_name": "Python 3 (ipykernel)",
   "language": "python",
   "name": "python3"
  },
  "language_info": {
   "codemirror_mode": {
    "name": "ipython",
    "version": 3
   },
   "file_extension": ".py",
   "mimetype": "text/x-python",
   "name": "python",
   "nbconvert_exporter": "python",
   "pygments_lexer": "ipython3",
   "version": "3.10.8"
  }
 },
 "nbformat": 4,
 "nbformat_minor": 5
}
