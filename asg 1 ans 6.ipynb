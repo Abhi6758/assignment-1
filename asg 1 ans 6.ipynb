{
 "cells": [
  {
   "cell_type": "code",
   "execution_count": 16,
   "id": "b776e133-220e-4755-9b2f-05908a62e112",
   "metadata": {},
   "outputs": [],
   "source": [
    "l = [10, 25, 8, 42, 17, 30, 5, 12, 38, 21, 14, 9, 31, 19, 7, 23, 16, 50, 3, 28, 36, 11, 27, 6, 33]"
   ]
  },
  {
   "cell_type": "code",
   "execution_count": 17,
   "id": "eb220bfe-1be2-45b7-a934-c1be347eecba",
   "metadata": {},
   "outputs": [
    {
     "name": "stdout",
     "output_type": "stream",
     "text": [
      "10 is not divisible by 3\n",
      "25 is not divisible by 3\n",
      "8 is not divisible by 3\n",
      "42 is divisible by 3\n",
      "17 is not divisible by 3\n",
      "30 is divisible by 3\n",
      "5 is not divisible by 3\n",
      "12 is divisible by 3\n",
      "38 is not divisible by 3\n",
      "21 is divisible by 3\n",
      "14 is not divisible by 3\n",
      "9 is divisible by 3\n",
      "31 is not divisible by 3\n",
      "19 is not divisible by 3\n",
      "7 is not divisible by 3\n",
      "23 is not divisible by 3\n",
      "16 is not divisible by 3\n",
      "50 is not divisible by 3\n",
      "3 is divisible by 3\n",
      "28 is not divisible by 3\n",
      "36 is divisible by 3\n",
      "11 is not divisible by 3\n",
      "27 is divisible by 3\n",
      "6 is divisible by 3\n",
      "33 is divisible by 3\n"
     ]
    }
   ],
   "source": [
    "for num in l:\n",
    "    if num % 3 == 0:\n",
    "        print(f\"{num} is divisible by 3\")\n",
    "    else:\n",
    "        print(f\"{num} is not divisible by 3\")"
   ]
  },
  {
   "cell_type": "code",
   "execution_count": null,
   "id": "4569f24b-fc85-40a6-a919-a0f8ec35448d",
   "metadata": {},
   "outputs": [],
   "source": []
  }
 ],
 "metadata": {
  "kernelspec": {
   "display_name": "Python 3 (ipykernel)",
   "language": "python",
   "name": "python3"
  },
  "language_info": {
   "codemirror_mode": {
    "name": "ipython",
    "version": 3
   },
   "file_extension": ".py",
   "mimetype": "text/x-python",
   "name": "python",
   "nbconvert_exporter": "python",
   "pygments_lexer": "ipython3",
   "version": "3.10.8"
  }
 },
 "nbformat": 4,
 "nbformat_minor": 5
}
